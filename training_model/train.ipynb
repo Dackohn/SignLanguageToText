{
 "cells": [
  {
   "cell_type": "code",
   "execution_count": null,
   "id": "bbcf4d1e02b30974",
   "metadata": {
    "ExecuteTime": {
     "end_time": "2024-10-26T10:19:57.693303400Z",
     "start_time": "2024-10-26T10:19:51.064240500Z"
    },
    "collapsed": false
   },
   "outputs": [],
   "source": [
    "!pip install torch\n",
    "!pip install torchvision"
   ]
  },
  {
   "cell_type": "code",
   "execution_count": 3,
   "id": "b43210d375614231",
   "metadata": {
    "ExecuteTime": {
     "end_time": "2024-10-26T10:21:02.965348600Z",
     "start_time": "2024-10-26T10:20:49.120731800Z"
    },
    "collapsed": false
   },
   "outputs": [],
   "source": [
    "import torch\n",
    "import torch.nn as nn\n",
    "from torchvision import models"
   ]
  },
  {
   "cell_type": "code",
   "execution_count": 7,
   "id": "4012b686f66579ce",
   "metadata": {
    "ExecuteTime": {
     "end_time": "2024-10-26T10:24:47.540931100Z",
     "start_time": "2024-10-26T10:24:47.391727300Z"
    },
    "collapsed": false
   },
   "outputs": [],
   "source": [
    "model = models.resnet18(pretrained=True)\n",
    "\n",
    "for param in model.parameters():\n",
    "    param.requires_grad = False\n",
    "num_classes = 29\n",
    "model.fc = nn.Linear(model.fc.in_features, num_classes)\n",
    "\n",
    "for param in model.fc.parameters():\n",
    "    param.requires_grad = True"
   ]
  },
  {
   "cell_type": "code",
   "execution_count": null,
   "id": "ea4d4f6a287e9c02",
   "metadata": {
    "ExecuteTime": {
     "end_time": "2024-10-26T10:24:48.074771800Z",
     "start_time": "2024-10-26T10:24:48.069442900Z"
    },
    "collapsed": false
   },
   "outputs": [],
   "source": [
    "print(model)\n"
   ]
  },
  {
   "cell_type": "code",
   "execution_count": 9,
   "id": "de736ca53a23e82a",
   "metadata": {
    "ExecuteTime": {
     "end_time": "2024-10-26T10:28:31.035442400Z",
     "start_time": "2024-10-26T10:28:31.026171200Z"
    },
    "collapsed": false
   },
   "outputs": [],
   "source": [
    "import torch.optim as optim\n",
    "\n",
    "learning_rate = 0.001\n",
    "optimizer = optim.Adam(model.fc.parameters(), lr=learning_rate)\n",
    "scheduler = optim.lr_scheduler.ReduceLROnPlateau(optimizer, mode='min', factor=0.1, patience=3)"
   ]
  },
  {
   "cell_type": "code",
   "execution_count": 10,
   "id": "accece2a4ddbd497",
   "metadata": {
    "ExecuteTime": {
     "end_time": "2024-10-26T10:29:00.100163800Z",
     "start_time": "2024-10-26T10:29:00.092160300Z"
    },
    "collapsed": false
   },
   "outputs": [],
   "source": [
    "early_stopping_patience = 5\n",
    "best_val_loss = float(\"inf\")\n",
    "epochs_no_improve = 0\n"
   ]
  },
  {
   "cell_type": "code",
   "execution_count": null,
   "id": "8d21eb0b13b90396",
   "metadata": {
    "collapsed": false
   },
   "outputs": [],
   "source": [
    "from torch.utils.data import DataLoader\n",
    "from torchvision import datasets, transforms\n",
    "\n",
    "transform = transforms.Compose([\n",
    "    transforms.Resize((224, 224)), \n",
    "    transforms.ToTensor(),\n",
    "    transforms.Normalize(mean=[0.485, 0.456, 0.406], std=[0.229, 0.224, 0.225])\n",
    "])\n",
    "\n",
    "train_dataset = datasets.ImageFolder(root='path_to_data/train', transform=transform)\n",
    "val_dataset = datasets.ImageFolder(root='path_to_data/val', transform=transform)\n",
    "\n",
    "batch_size = 32\n",
    "train_loader = DataLoader(train_dataset, batch_size=batch_size, shuffle=True)\n",
    "val_loader = DataLoader(val_dataset, batch_size=batch_size, shuffle=False)"
   ]
  },
  {
   "cell_type": "code",
   "execution_count": null,
   "id": "3c4d8c695d4edb7b",
   "metadata": {
    "collapsed": false
   },
   "outputs": [],
   "source": [
    "import torch.nn.functional as F\n",
    "\n",
    "# Number of epochs\n",
    "num_epochs = 20\n",
    "\n",
    "# Training loop\n",
    "for epoch in range(num_epochs):\n",
    "    model.train()\n",
    "    train_loss = 0.0\n",
    "    \n",
    "    for images, labels in train_loader:\n",
    "\n",
    "        images, labels = images.to('cuda'), labels.to('cuda')\n",
    "\n",
    "        optimizer.zero_grad()\n",
    "\n",
    "        outputs = model(images)\n",
    "        loss = F.cross_entropy(outputs, labels)\n",
    "\n",
    "        loss.backward()\n",
    "        optimizer.step()\n",
    "        \n",
    "        train_loss += loss.item()\n",
    "\n",
    "    train_loss /= len(train_loader)\n",
    "    model.eval()\n",
    "    val_loss = 0.0\n",
    "    with torch.no_grad():\n",
    "        for images, labels in val_loader:\n",
    "            images, labels = images.to('cuda'), labels.to('cuda')\n",
    "            \n",
    "            outputs = model(images)\n",
    "            loss = F.cross_entropy(outputs, labels)\n",
    "            val_loss += loss.item()\n",
    "    \n",
    "    val_loss /= len(val_loader)\n",
    "\n",
    "    print(f\"Epoch [{epoch+1}/{num_epochs}], Train Loss: {train_loss:.4f}, Val Loss: {val_loss:.4f}\")\n",
    "\n",
    "    scheduler.step(val_loss)\n",
    "\n",
    "    if val_loss < best_val_loss:\n",
    "        best_val_loss = val_loss\n",
    "        epochs_no_improve = 0\n",
    "        torch.save(model.state_dict(), 'best_model.pth')\n",
    "    else:\n",
    "        epochs_no_improve += 1\n",
    "        if epochs_no_improve >= early_stopping_patience:\n",
    "            print(\"Early stopping triggered.\")\n",
    "            break\n"
   ]
  }
 ],
 "metadata": {
  "kernelspec": {
   "display_name": "Python 3",
   "language": "python",
   "name": "python3"
  },
  "language_info": {
   "codemirror_mode": {
    "name": "ipython",
    "version": 2
   },
   "file_extension": ".py",
   "mimetype": "text/x-python",
   "name": "python",
   "nbconvert_exporter": "python",
   "pygments_lexer": "ipython2",
   "version": "2.7.6"
  }
 },
 "nbformat": 4,
 "nbformat_minor": 5
}
